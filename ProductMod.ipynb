{
 "cells": [
  {
   "cell_type": "code",
   "execution_count": null,
   "metadata": {
    "id": "a_h12g8L5J_r"
   },
   "outputs": [],
   "source": [
    "import pandas as pd\n",
    "import numpy as np\n",
    "import random\n",
    "from datetime import date\n",
    "from sklearn.utils import shuffle"
   ]
  },
  {
   "cell_type": "code",
   "execution_count": null,
   "metadata": {
    "id": "oPDfpF-65QYY"
   },
   "outputs": [],
   "source": [
    "ProductDf = pd.read_excel(\"/content/BaseExcel.xlsx\",sheet_name=\"Product\")"
   ]
  },
  {
   "cell_type": "code",
   "execution_count": null,
   "metadata": {
    "id": "Dfgeczdc6aV8"
   },
   "outputs": [],
   "source": [
    "ProductCatDf = pd.read_excel(\"/content/BaseExcel.xlsx\",sheet_name=\"Product Category\")"
   ]
  },
  {
   "cell_type": "code",
   "execution_count": null,
   "metadata": {
    "id": "L9OK_3QL6sCG"
   },
   "outputs": [],
   "source": [
    "FlipkartDf = pd.read_csv(\"/content/flipkart.csv\")"
   ]
  },
  {
   "cell_type": "code",
   "execution_count": null,
   "metadata": {
    "id": "49bUhuGJBrW_"
   },
   "outputs": [],
   "source": [
    "def NewProductsAddition(N,ProductDf,ProductCatDf,FlipkartDf):\n",
    "    PRecords = []\n",
    "    PCRecords = []\n",
    "    PRow,PCol = ProductDf.shape\n",
    "    PCRow,PCCol = ProductCatDf.shape\n",
    "    LastPc = ProductCatDf[\"ProductCategoryID\"].values[-1]+1\n",
    "    LastP = ProductDf[\"ProductID\"].values[-1]+1\n",
    "    PRecords,PCRecords,FlipkartDf = SnipData(N,FlipkartDf,ProductDf,ProductCatDf,LastP,LastPc)\n",
    "    return FlipkartDf"
   ]
  },
  {
   "cell_type": "code",
   "execution_count": null,
   "metadata": {
    "id": "zXNpxCKYEHVd"
   },
   "outputs": [],
   "source": [
    "def SnipData(N,FlipkartDf,ProductDf,ProductCatDf,LastP,LastPc):\n",
    "    PRecords = []\n",
    "    PCRecords = []\n",
    "    PRow,PCol = ProductDf.shape\n",
    "    PCRow,PCCol = ProductCatDf.shape\n",
    "    Color = ['Silver',np.nan,'Multi','White','Blue','Yellow','Grey','Black','Red','Silver/Black']\n",
    "    Size = [np.nan,'L',38,40,42,44,46,48,50,52,54,56,'M',58,60,62,70,'S','XL','M','XXL']\n",
    "    CategoryNamesDict = {}\n",
    "    today = date.today().strftime(\"%m-%d-%Y\")\n",
    "    for Id,Name in ProductCatDf[[\"ProductCategoryID\",\"Name\"]].values:\n",
    "        CategoryNamesDict[Name] = Id\n",
    "    FlipkartDf = shuffle(FlipkartDf)\n",
    "    for Record in FlipkartDf.tail(N).values:\n",
    "    SubPRec = [PRow]\n",
    "    SubPCRec = []\n",
    "    Category = Record[1].replace(\"[\",\"\").replace(\"]\",\"\").replace('\"','').split(\">>\")[0].lstrip().rstrip()\n",
    "    Id = None\n",
    "    Flag = False\n",
    "    if(Category in CategoryNamesDict):\n",
    "        Id = CategoryNamesDict[Category]\n",
    "    else:\n",
    "        Id = PCRow\n",
    "        CategoryNamesDict[Category] = Id\n",
    "        Flag = True\n",
    "    if(Flag):\n",
    "        SubPCRec.append(PCRow) #PCId\n",
    "        SubPCRec.append(Category) #PC_Category\n",
    "        SubPCRec.append(today) #PC_Date\n",
    "    SubPRec.append(Record[0]) #Name\n",
    "    SubPRec.append(random.choice(Color)) #Color\n",
    "    SubPRec.append(Record[4]) #StandardCost\n",
    "    SubPRec.append(Record[3]) #ListPrice\n",
    "    SubPRec.append(random.choice(Size)) #Size\n",
    "    SubPRec.append(random.randint(400,1200)) #Weight\n",
    "    SubPRec.append(CategoryNamesDict[Category])\n",
    "    SubPRec.append(today) #SellStartDate\n",
    "    SubPRec.append(today) #ModifiedData\n",
    "    PRecords.append(SubPRec)\n",
    "    print(SubPRec)\n",
    "    if(SubPCRec):\n",
    "        PCRecords.append(SubPCRec)\n",
    "    SubPRec,SubPCRec = [],[]\n",
    "    PRow += 1\n",
    "    PCRow += 1\n",
    "    FlipkartDf = FlipkartDf[:FlipkartDf.shape[0]-N]\n",
    "    print(PRecords,PCRecords)\n",
    "    return PRecords,PCRecords,FlipkartDf"
   ]
  },
  {
   "cell_type": "code",
   "execution_count": null,
   "metadata": {
    "id": "DJxgTJ7DvyNQ"
   },
   "outputs": [],
   "source": []
  },
  {
   "cell_type": "code",
   "execution_count": null,
   "metadata": {
    "colab": {
     "base_uri": "https://localhost:8080/"
    },
    "id": "E63lEgkMno4I",
    "outputId": "1d878f15-02ce-4971-c7eb-decca9aa8195"
   },
   "outputs": [
    {
     "name": "stdout",
     "output_type": "stream",
     "text": [
      "[] []\n"
     ]
    }
   ],
   "source": [
    "FlipkartDf = NewProductsAddition(0,ProductDf,ProductCatDf,FlipkartDf)"
   ]
  },
  {
   "cell_type": "code",
   "execution_count": null,
   "metadata": {
    "colab": {
     "base_uri": "https://localhost:8080/"
    },
    "id": "fmubFfhvv1kb",
    "outputId": "2e5d5e38-dce9-4ee9-d4ae-3ce3bcff5ab3"
   },
   "outputs": [
    {
     "data": {
      "text/plain": [
       "(20000, 9)"
      ]
     },
     "execution_count": 97,
     "metadata": {},
     "output_type": "execute_result"
    }
   ],
   "source": [
    "FlipkartDf.shape"
   ]
  },
  {
   "cell_type": "code",
   "execution_count": null,
   "metadata": {
    "colab": {
     "base_uri": "https://localhost:8080/"
    },
    "id": "aAy_hOt9v1-i",
    "outputId": "d25bb1ff-7786-44bd-a8b5-f7a7cb8f03c9"
   },
   "outputs": [
    {
     "data": {
      "text/plain": [
       "[]"
      ]
     },
     "execution_count": 85,
     "metadata": {},
     "output_type": "execute_result"
    }
   ],
   "source": [
    "PRecords"
   ]
  },
  {
   "cell_type": "code",
   "execution_count": null,
   "metadata": {
    "id": "oPMq-GlOxGMY"
   },
   "outputs": [],
   "source": []
  }
 ],
 "metadata": {
  "colab": {
   "collapsed_sections": [],
   "name": "ProductMod",
   "provenance": []
  },
  "kernelspec": {
   "display_name": "Python 3 (ipykernel)",
   "language": "python",
   "name": "python3"
  },
  "language_info": {
   "codemirror_mode": {
    "name": "ipython",
    "version": 3
   },
   "file_extension": ".py",
   "mimetype": "text/x-python",
   "name": "python",
   "nbconvert_exporter": "python",
   "pygments_lexer": "ipython3",
   "version": "3.9.9"
  }
 },
 "nbformat": 4,
 "nbformat_minor": 1
}
